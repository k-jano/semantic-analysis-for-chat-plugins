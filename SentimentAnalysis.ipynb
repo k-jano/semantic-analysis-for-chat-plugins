{
 "cells": [
  {
   "cell_type": "code",
   "execution_count": 29,
   "metadata": {},
   "outputs": [
    {
     "name": "stdout",
     "output_type": "stream",
     "text": [
      "[nltk_data] Downloading package twitter_samples to\n",
      "[nltk_data]     /home/jano/nltk_data...\n",
      "[nltk_data]   Package twitter_samples is already up-to-date!\n",
      "[nltk_data] Downloading package punkt to /home/jano/nltk_data...\n",
      "[nltk_data]   Package punkt is already up-to-date!\n",
      "[nltk_data] Downloading package wordnet to /home/jano/nltk_data...\n",
      "[nltk_data]   Package wordnet is already up-to-date!\n",
      "[nltk_data] Downloading package averaged_perceptron_tagger to\n",
      "[nltk_data]     /home/jano/nltk_data...\n",
      "[nltk_data]   Package averaged_perceptron_tagger is already up-to-\n",
      "[nltk_data]       date!\n",
      "[nltk_data] Downloading package stopwords to /home/jano/nltk_data...\n",
      "[nltk_data]   Unzipping corpora/stopwords.zip.\n"
     ]
    },
    {
     "data": {
      "text/plain": [
       "True"
      ]
     },
     "execution_count": 29,
     "metadata": {},
     "output_type": "execute_result"
    }
   ],
   "source": [
    "#!pip install nltk==3.3\n",
    "import nltk\n",
    "nltk.download('twitter_samples')\n",
    "nltk.download('punkt')\n",
    "nltk.download('wordnet')\n",
    "nltk.download('averaged_perceptron_tagger')\n",
    "nltk.download('stopwords')"
   ]
  },
  {
   "cell_type": "code",
   "execution_count": 78,
   "metadata": {},
   "outputs": [],
   "source": [
    "from nltk.corpus import twitter_samples, stopwords\n",
    "from nltk.tag import pos_tag\n",
    "from nltk.stem.wordnet import WordNetLemmatizer\n",
    "from nltk import classify, NaiveBayesClassifier\n",
    "from nltk.tokenize import word_tokenize\n",
    "import re, string\n",
    "\n",
    "stop_words = stopwords.words('english')"
   ]
  },
  {
   "cell_type": "markdown",
   "metadata": {},
   "source": [
    "### Tokenizing data"
   ]
  },
  {
   "cell_type": "code",
   "execution_count": 17,
   "metadata": {},
   "outputs": [
    {
     "name": "stdout",
     "output_type": "stream",
     "text": [
      "['#FollowFriday', '@France_Inte', '@PKuchly57', '@Milipol_Paris', 'for', 'being', 'top', 'engaged', 'members', 'in', 'my', 'community', 'this', 'week', ':)']\n"
     ]
    }
   ],
   "source": [
    "pos_tweet_tokens = twitter_samples.tokenized('positive_tweets.json')\n",
    "print(pos_tweet_tokens[0])"
   ]
  },
  {
   "cell_type": "markdown",
   "metadata": {},
   "source": [
    "### Normalizing data"
   ]
  },
  {
   "cell_type": "code",
   "execution_count": 26,
   "metadata": {},
   "outputs": [
    {
     "name": "stdout",
     "output_type": "stream",
     "text": [
      "[('#FollowFriday', 'JJ'), ('@France_Inte', 'NNP'), ('@PKuchly57', 'NNP'), ('@Milipol_Paris', 'NNP'), ('for', 'IN'), ('being', 'VBG'), ('top', 'JJ'), ('engaged', 'VBN'), ('members', 'NNS'), ('in', 'IN'), ('my', 'PRP$'), ('community', 'NN'), ('this', 'DT'), ('week', 'NN'), (':)', 'NN')]\n"
     ]
    }
   ],
   "source": [
    "print(pos_tag(pos_tweet_tokens[0]))"
   ]
  },
  {
   "cell_type": "code",
   "execution_count": 36,
   "metadata": {},
   "outputs": [
    {
     "name": "stdout",
     "output_type": "stream",
     "text": [
      "['#FollowFriday', '@France_Inte', '@PKuchly57', '@Milipol_Paris', 'for', 'be', 'top', 'engage', 'member', 'in', 'my', 'community', 'this', 'week', ':)']\n"
     ]
    }
   ],
   "source": [
    "def lemmatize(tokens):\n",
    "    lemmatizer = WordNetLemmatizer()\n",
    "    lem_sentence = []\n",
    "    for word, tag in pos_tag(tokens):\n",
    "        if tag.startswith('NN'): #noun\n",
    "            sen_type = 'n'\n",
    "        elif tag.startswith('VB'): #verb\n",
    "            sen_type = 'v'\n",
    "        else:\n",
    "            sen_type = 'a'\n",
    "        lem_sentence.append(lemmatizer.lemmatize(word, sen_type))\n",
    "    return lem_sentence\n",
    "\n",
    "print(lemmatize(pos_tweet_tokens[0]))"
   ]
  },
  {
   "cell_type": "markdown",
   "metadata": {},
   "source": [
    "### Removing Noise"
   ]
  },
  {
   "cell_type": "code",
   "execution_count": 41,
   "metadata": {},
   "outputs": [
    {
     "name": "stdout",
     "output_type": "stream",
     "text": [
      "['#followfriday', 'top', 'engaged', 'members', 'community', 'week', ':)']\n"
     ]
    }
   ],
   "source": [
    "def remove_noise(tokens):\n",
    "    cleaned_tokens = []\n",
    "    for token in tokens:\n",
    "        token = re.sub('http[s]?://(?:[a-zA-Z]|[0-9]|[$-_@.&+#]|[!*\\(\\),]|'\\\n",
    "                       '(?:%[0-9a-fA-F][0-9a-fA-F]))+','', token)\n",
    "        token = re.sub(\"(@[A-Za-z0-9_]+)\",\"\", token)\n",
    "        \n",
    "        if len(token) > 0 and token not in string.punctuation and token.lower() not in stop_words:\n",
    "            cleaned_tokens.append(token.lower())\n",
    "    \n",
    "    return cleaned_tokens\n",
    "\n",
    "print(remove_noise(pos_tweet_tokens[0]))"
   ]
  },
  {
   "cell_type": "markdown",
   "metadata": {},
   "source": [
    "### Helpers"
   ]
  },
  {
   "cell_type": "code",
   "execution_count": 42,
   "metadata": {},
   "outputs": [],
   "source": [
    "def get_all_words(tokens_list):\n",
    "    for tokens in tokens_list:\n",
    "        for token in tokens:\n",
    "            yield token"
   ]
  },
  {
   "cell_type": "code",
   "execution_count": 57,
   "metadata": {},
   "outputs": [],
   "source": [
    "def get_dictionary(tokens_list):\n",
    "    for tokens in tokens_list:\n",
    "        yield dict([token, True] for token in tokens)"
   ]
  },
  {
   "cell_type": "markdown",
   "metadata": {},
   "source": [
    "### Building a model"
   ]
  },
  {
   "cell_type": "code",
   "execution_count": 61,
   "metadata": {},
   "outputs": [
    {
     "name": "stdout",
     "output_type": "stream",
     "text": [
      "Accuracy is:  0.992\n",
      "Most Informative Features\n",
      "                      :( = True           Negati : Positi =   2957.9 : 1.0\n",
      "                      :) = True           Positi : Negati =    850.1 : 1.0\n",
      "                     x15 = True           Negati : Positi =     39.4 : 1.0\n",
      "                follower = True           Positi : Negati =     31.4 : 1.0\n",
      "                     sad = True           Negati : Positi =     27.6 : 1.0\n",
      "                     ugh = True           Negati : Positi =     20.6 : 1.0\n",
      "                    glad = True           Positi : Negati =     17.4 : 1.0\n",
      "                   shame = True           Negati : Positi =     15.0 : 1.0\n",
      "                  ignore = True           Negati : Positi =     13.9 : 1.0\n",
      "                  friday = True           Positi : Negati =     13.7 : 1.0\n",
      "                    tire = True           Negati : Positi =     13.6 : 1.0\n",
      "              appreciate = True           Positi : Negati =     12.6 : 1.0\n",
      "               community = True           Positi : Negati =     12.6 : 1.0\n",
      "                    sell = True           Negati : Positi =     10.6 : 1.0\n",
      "                   sadly = True           Negati : Positi =     10.6 : 1.0\n",
      "None\n"
     ]
    }
   ],
   "source": [
    "pos_tweet_tokens = twitter_samples.tokenized('positive_tweets.json')\n",
    "neg_tweet_tokens = twitter_samples.tokenized('negative_tweets.json')\n",
    "\n",
    "pos_cleaned_tokens_list = []\n",
    "neg_cleaned_tokens_list = []\n",
    "\n",
    "for tokens in pos_tweet_tokens:\n",
    "    pos_cleaned_tokens_list.append(lemmatize(remove_noise(tokens)))\n",
    "\n",
    "for tokens in neg_tweet_tokens:\n",
    "    neg_cleaned_tokens_list.append(lemmatize(remove_noise(tokens)))\n",
    "    \n",
    "pos_dict = get_dictionary(pos_cleaned_tokens_list)\n",
    "neg_dict = get_dictionary(neg_cleaned_tokens_list)\n",
    "\n",
    "pos_dataset = [(single_dict, \"Positive\") for single_dict in pos_dict]\n",
    "neg_dataset = [(single_dict, \"Negative\") for single_dict in neg_dict]\n",
    "\n",
    "dataset = pos_dataset + neg_dataset\n",
    "train_data = dataset[:8000]\n",
    "test_data = dataset[8000:]\n",
    "\n",
    "classifier = NaiveBayesClassifier.train(train_data)\n",
    "\n",
    "print(\"Accuracy is: \", classify.accuracy(classifier, test_data))\n",
    "print(classifier.show_most_informative_features(15))\n"
   ]
  },
  {
   "cell_type": "markdown",
   "metadata": {},
   "source": [
    "### Usage"
   ]
  },
  {
   "cell_type": "code",
   "execution_count": 92,
   "metadata": {},
   "outputs": [
    {
     "name": "stdout",
     "output_type": "stream",
     "text": [
      "It is terrible Negative\n"
     ]
    }
   ],
   "source": [
    "test_data = \"It is terrible\"\n",
    "tokens = lemmatize(remove_noise(word_tokenize(test_data)))\n",
    "print(test_data, classifier.classify(dict([token, True] for token in tokens)))"
   ]
  },
  {
   "cell_type": "markdown",
   "metadata": {},
   "source": [
    "### Saving classifier"
   ]
  },
  {
   "cell_type": "code",
   "execution_count": 87,
   "metadata": {},
   "outputs": [],
   "source": [
    "import pickle\n",
    "f = open('sentiment_classifier.pickle', 'wb')\n",
    "pickle.dump(classifier, f)\n",
    "f.close()"
   ]
  }
 ],
 "metadata": {
  "kernelspec": {
   "display_name": "Python 3",
   "language": "python",
   "name": "python3"
  },
  "language_info": {
   "codemirror_mode": {
    "name": "ipython",
    "version": 3
   },
   "file_extension": ".py",
   "mimetype": "text/x-python",
   "name": "python",
   "nbconvert_exporter": "python",
   "pygments_lexer": "ipython3",
   "version": "3.7.3"
  }
 },
 "nbformat": 4,
 "nbformat_minor": 2
}
